{
 "cells": [
  {
   "cell_type": "code",
   "execution_count": 1,
   "id": "892d20ce-17f8-49c6-b3f6-8712cc21203f",
   "metadata": {},
   "outputs": [],
   "source": [
    "import pandas as pd\n",
    "import numpy as np\n",
    "from scipy import spatial\n",
    "from pathlib import Path\n",
    "import platform"
   ]
  },
  {
   "cell_type": "code",
   "execution_count": 2,
   "id": "704c450d-dfc2-406c-8a28-6d47b02920d9",
   "metadata": {},
   "outputs": [],
   "source": [
    "if platform.system() == 'Darwin':\n",
    "    main_path = Path(\".\")\n",
    "else:\n",
    "    main_path = Path(\"streamlit\")"
   ]
  },
  {
   "cell_type": "code",
   "execution_count": 3,
   "id": "241ab1d4-5f80-4682-9ade-4d33f766def5",
   "metadata": {},
   "outputs": [],
   "source": [
    "FIS_path = main_path.joinpath('DDM_FIS.fld')"
   ]
  },
  {
   "cell_type": "code",
   "execution_count": 4,
   "id": "3e351504-6afa-42a3-83c1-ebae2cb802b8",
   "metadata": {},
   "outputs": [
    {
     "data": {
      "text/plain": [
       "PosixPath('DDM_FIS.fld/r')"
      ]
     },
     "execution_count": 4,
     "metadata": {},
     "output_type": "execute_result"
    }
   ],
   "source": [
    "FIS_path"
   ]
  },
  {
   "cell_type": "code",
   "execution_count": 10,
   "id": "5bce05f2-a900-410d-9a15-a8c7aacc908a",
   "metadata": {},
   "outputs": [
    {
     "data": {
      "text/plain": [
       "PosixPath('DDMSim logo.png')"
      ]
     },
     "execution_count": 10,
     "metadata": {},
     "output_type": "execute_result"
    }
   ],
   "source": [
    "logo_path = Path(\".\")\n",
    "logo_path.joinpath('DDMSim logo.png')"
   ]
  },
  {
   "cell_type": "code",
   "execution_count": 16,
   "id": "5b442a38-007c-44fc-91e2-0216e3c790d4",
   "metadata": {},
   "outputs": [
    {
     "data": {
      "text/plain": [
       "0.1"
      ]
     },
     "execution_count": 16,
     "metadata": {},
     "output_type": "execute_result"
    }
   ],
   "source": [
    "# READ FILE:\n",
    "df_FIS = pd.read_csv(FIS_path, sep='\\s', engine='python')\n",
    "df_FIS_in = df_FIS.iloc[:, :-1]\n",
    "df_FIS_in = df_FIS_in.to_numpy()\n",
    "df_FIS_out = df_FIS.iloc[:, df_FIS.shape[1] - 1]\n",
    "# GENERATE TREE:\n",
    "tree_FIS = spatial.KDTree(data = df_FIS_in, copy_data = True)\n",
    "\n",
    "input_list = [1,0,0,0,0,1,1,1,0]\n",
    "\n",
    "facts_relevant = input_list[0]\n",
    "facts_credible = input_list[1]\n",
    "facts_sufficient = input_list[2]\n",
    "decisions_documented = input_list[3]\n",
    "conclusions_reasonable = input_list[4]\n",
    "applying_policy = input_list[5]\n",
    "decision_within = input_list[6]\n",
    "discretion_level = input_list[7]\n",
    "processes_fair = input_list[8]\n",
    "    \n",
    "# INTERPOLATION - FIS\n",
    "result = []\n",
    "    \n",
    "idx = tree_FIS.query(\n",
    "    x = [\n",
    "        facts_relevant,\n",
    "        facts_credible,\n",
    "        facts_sufficient,\n",
    "        decisions_documented,\n",
    "        conclusions_reasonable,\n",
    "        applying_policy,\n",
    "        decision_within,\n",
    "        discretion_level,\n",
    "        processes_fair])[1]\n",
    "    \n",
    "result = df_FIS_out.loc[idx]        \n",
    "    \n",
    "result"
   ]
  },
  {
   "cell_type": "code",
   "execution_count": 17,
   "id": "b0a9d0dc-da5b-4084-8926-de9809f31b77",
   "metadata": {},
   "outputs": [
    {
     "data": {
      "text/plain": [
       "13200"
      ]
     },
     "execution_count": 17,
     "metadata": {},
     "output_type": "execute_result"
    }
   ],
   "source": [
    "idx"
   ]
  },
  {
   "cell_type": "code",
   "execution_count": 19,
   "id": "f898a891-1c5f-4c2d-80f2-cc71bb59adcd",
   "metadata": {},
   "outputs": [],
   "source": [
    "def YMN_to_num(answer):\n",
    "    if answer == 'Yes': result = 1\n",
    "    if answer == 'Maybe': result = 0.5\n",
    "    if answer == 'No': result = 0\n",
    "    return result"
   ]
  },
  {
   "cell_type": "code",
   "execution_count": 21,
   "id": "a0681198-8a27-4830-b583-136dec044336",
   "metadata": {},
   "outputs": [
    {
     "data": {
      "text/plain": [
       "0"
      ]
     },
     "execution_count": 21,
     "metadata": {},
     "output_type": "execute_result"
    }
   ],
   "source": [
    "YMN_to_num('No')"
   ]
  },
  {
   "cell_type": "code",
   "execution_count": null,
   "id": "f99bd00d-df42-449e-b183-e42100f424ae",
   "metadata": {},
   "outputs": [],
   "source": []
  }
 ],
 "metadata": {
  "kernelspec": {
   "display_name": "RPE",
   "language": "python",
   "name": "rpe"
  },
  "language_info": {
   "codemirror_mode": {
    "name": "ipython",
    "version": 3
   },
   "file_extension": ".py",
   "mimetype": "text/x-python",
   "name": "python",
   "nbconvert_exporter": "python",
   "pygments_lexer": "ipython3",
   "version": "3.10.2"
  }
 },
 "nbformat": 4,
 "nbformat_minor": 5
}
